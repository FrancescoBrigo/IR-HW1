{
 "cells": [
  {
   "cell_type": "markdown",
   "metadata": {},
   "source": [
    "# HOMEWORK 1: Valutazione\n",
    "Si è usato trec_eval di Terrier per effettuare la valutazione, si sono quindi ottenuti i valori di:\n",
    "* MAP: dal campo map all\n",
    "* Precision@10: dal campo P_10 all\n",
    "* Rprec: da Rprec all\n",
    "Mentre risulta necessario calcolare ANOVA-oneway"
   ]
  },
  {
   "cell_type": "code",
   "execution_count": 2,
   "metadata": {
    "scrolled": false
   },
   "outputs": [
    {
     "name": "stdout",
     "output_type": "stream",
     "text": [
      "F-value: 0.09965024788515882 P-value: 0.9601256241314807\n"
     ]
    }
   ],
   "source": [
    "import pandas as pd\n",
    "import scipy.stats as stats\n",
    "import researchpy as rp\n",
    "import statsmodels.api as sm\n",
    "from statsmodels.formula.api import ols\n",
    "import numpy as np\n",
    "import matplotlib.pyplot as plt\n",
    "alpha=0.05\n",
    "# Trovo i dati dal file di valutazione della run\n",
    "# apro la valutazione con PorterStemmer,Stopwords e modello BM25\n",
    "valutazioneBM25_0  = open(\"C:\\\\Users\\\\franc\\\\Desktop\\\\Utility\\\\terrier\\\\terrier-core-4.4\\\\var\\\\valutazioni\\\\valutazioneBM25_0.txt\",\"r\") \n",
    "linee = valutazioneBM25_0.readlines() \n",
    "map_bm250=[]\n",
    "topics = range(6,4554,91)\n",
    "for index in topics:\n",
    "#inserisco in array map_bm250 le map dei singoli topic\n",
    "        riga = linee[index]\n",
    "        riga = riga.split()\n",
    "        #print(riga)\n",
    "        map_bm250.append(riga[2])  \n",
    "#print(\"BM250\")\n",
    "#print(map_bm250)\n",
    "# apro la valutazione con PorterStemmer,Stopwords e modello TFIDF\n",
    "valutazioneTFIDF_1  = open(\"C:\\\\Users\\\\franc\\\\Desktop\\\\Utility\\\\terrier\\\\terrier-core-4.4\\\\var\\\\valutazioni\\\\valutazioneTFIDF_1.txt\",\"r\") \n",
    "linee = valutazioneTFIDF_1.readlines() \n",
    "map_TFIDF1=[]\n",
    "topics = range(4,4554,91)\n",
    "for index in topics:\n",
    "#inserisco in array map_TFIDF1 le map dei singoli topic\n",
    "        riga = linee[index]\n",
    "        riga = riga.split()\n",
    "        map_TFIDF1.append(riga[2]) \n",
    "#print(\"TFIDF1\")\n",
    "#print(map_TFIDF1)\n",
    "# apro la valutazione con PorterStemmer e modello BM25\n",
    "valutazioneBM25_2  = open(\"C:\\\\Users\\\\franc\\\\Desktop\\\\Utility\\\\terrier\\\\terrier-core-4.4\\\\var\\\\valutazioni\\\\valutazioneBM25_2.txt\",\"r\") \n",
    "linee = valutazioneBM25_2.readlines() \n",
    "map_BM252=[]\n",
    "topics = range(4,4554,91)\n",
    "for index in topics:\n",
    "#inserisco in array map_bm252 le map dei singoli topic\n",
    "        riga = linee[index]\n",
    "        riga = riga.split()\n",
    "        map_BM252.append(riga[2])        \n",
    "#print(\"BM252\")\n",
    "#print(map_BM252)\n",
    "# apro la valutazione con modello TFIDF\n",
    "valutazioneTFIDF_3  = open(\"C:\\\\Users\\\\franc\\\\Desktop\\\\Utility\\\\terrier\\\\terrier-core-4.4\\\\var\\\\valutazioni\\\\valutazioneTFIDF_3.txt\",\"r\") \n",
    "linee = valutazioneTFIDF_3.readlines() \n",
    "map_TFIDF3=[]\n",
    "topics = range(4,4554,91)\n",
    "for index in topics:\n",
    "#inserisco in array map_TFIDF3 le map dei singoli topic\n",
    "        riga = linee[index]\n",
    "        riga = riga.split()\n",
    "        map_TFIDF3.append(riga[2]) \n",
    "#print(\"TFIDF3\")\n",
    "#print(map_TFIDF3)\n",
    "#creo la matrice con tutte le map delle singole run e dei singoli topic\n",
    "measures = np.c_[map_bm250, map_TFIDF1, map_BM252, map_TFIDF3]\n",
    "#print(measures)\n",
    "#calcolo ANOVA one way per trovare il pvalue\n",
    "Fvalue, pvalue = stats.f_oneway(map_bm250, map_TFIDF1, map_BM252, map_TFIDF3)\n",
    "print(\"F-value:\",Fvalue,\"P-value:\",pvalue)\n",
    "#controllo se il p-value è minore di alpha, in tal caso si va a sostituire\n",
    "if pvalue<alpha:\n",
    "    alpha=pvalue\n"
   ]
  },
  {
   "cell_type": "markdown",
   "metadata": {},
   "source": [
    "# Identificazione delle run:\n",
    "Le run sono identificate come segue:\n",
    "* RUN#0: modello BM25 con indice con PorterStemmer e Stopwords;\n",
    "* RUN#1: modello TFIDF con indice con PorterStemmer e Stopwords;\n",
    "* RUN#2: modello BM25 con indice con PorterStemmer;\n",
    "* RUN#3: modello TFIDF con indice senza PorterStemmer e Stopwords."
   ]
  },
  {
   "cell_type": "code",
   "execution_count": 4,
   "metadata": {
    "scrolled": true
   },
   "outputs": [
    {
     "name": "stdout",
     "output_type": "stream",
     "text": [
      "Multiple Comparison of Means - Tukey HSD,FWER=0.05\n",
      "============================================\n",
      "group1 group2 meandiff  lower  upper  reject\n",
      "--------------------------------------------\n",
      "RUN#0  RUN#1  -0.0006  -0.0851 0.0838 False \n",
      "RUN#0  RUN#2   0.0029  -0.0816 0.0874 False \n",
      "RUN#0  RUN#3  -0.0135   -0.098 0.071  False \n",
      "RUN#1  RUN#2   0.0035   -0.081 0.088  False \n",
      "RUN#1  RUN#3  -0.0128  -0.0973 0.0716 False \n",
      "RUN#2  RUN#3  -0.0164  -0.1008 0.0681 False \n",
      "--------------------------------------------\n",
      "[[-0.08511753  0.08384553]\n",
      " [-0.08159953  0.08736353]\n",
      " [-0.09796153  0.07100153]\n",
      " [-0.08096353  0.08799953]\n",
      " [-0.09732553  0.07163753]\n",
      " [-0.10084353  0.06811953]]\n",
      "[False False False False False False]\n",
      "[-0.000636  0.002882 -0.01348   0.003518 -0.012844 -0.016362]\n",
      "[0.02305267 0.02305267 0.02305267 0.02305267 0.02305267 0.02305267]\n",
      "3.6647169573500507\n",
      "[0.04224076 0.04224076 0.04224076 0.04224076]\n"
     ]
    },
    {
     "data": {
      "image/png": "[encoded data removed]",
      "text/plain": [
       "<Figure size 720x432 with 1 Axes>"
      ]
     },
     "metadata": {
      "needs_background": "light"
     },
     "output_type": "display_data"
    }
   ],
   "source": [
    "from statsmodels.stats.multicomp import MultiComparison\n",
    "#concateno le varie AP dei vari topic \n",
    "vector_maps=np.concatenate([map_bm250, map_TFIDF1, map_BM252, map_TFIDF3])\n",
    "#print(vector_maps)\n",
    "#creo e popolo il vettore relativo alle RUN\n",
    "runID=[]\n",
    "for i in range(4):\n",
    "#popolo il vettore\n",
    "    for index in range(50):\n",
    "        runID.append(\"RUN#\"+str(i))\n",
    "        \n",
    "mc = MultiComparison(vector_maps.astype('float'), runID)\n",
    "result = mc.tukeyhsd(alpha)\n",
    " \n",
    "print(result)\n",
    "#print(mc.groupsunique)\n",
    "#metodi a disposizione di result: reject, meandiffs, confint, std_pairs, q_crit, halfwidths\n",
    "print(result.confint)\n",
    "print(result.reject)\n",
    "print(result.meandiffs)\n",
    "print(result.std_pairs)\n",
    "print(result.q_crit)\n",
    "result.plot_simultaneous()\n",
    "print(result.halfwidths)"
   ]
  },
  {
   "cell_type": "markdown",
   "metadata": {},
   "source": [
    "# Plot dei risultati\n",
    "Ora inserisco i grafici con i risultati di MAP,Precision_10, Rprec e il grafico Precision-Recall?"
   ]
  },
  {
   "cell_type": "code",
   "execution_count": null,
   "metadata": {},
   "outputs": [],
   "source": [
    "#mi prendo i dati, di ogni run e di ogni topic per il Precision-Recall\n"
   ]
  }
 ],
 "metadata": {
  "kernelspec": {
   "display_name": "Python 3",
   "language": "python",
   "name": "python3"
  },
  "language_info": {
   "codemirror_mode": {
    "name": "ipython",
    "version": 3
   },
   "file_extension": ".py",
   "mimetype": "text/x-python",
   "name": "python",
   "nbconvert_exporter": "python",
   "pygments_lexer": "ipython3",
   "version": "3.7.0"
  }
 },
 "nbformat": 4,
 "nbformat_minor": 2
}
