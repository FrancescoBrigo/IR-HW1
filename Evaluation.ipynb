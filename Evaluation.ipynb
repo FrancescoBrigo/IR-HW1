{
 "cells": [
  {
   "cell_type": "markdown",
   "metadata": {},
   "source": [
    "# HOMEWORK 1: Valutazione\n",
    "Si è usato trec_eval di Terrier per effettuare la valutazione, si sono quindi ottenuti i valori di:\n",
    "* MAP: dal campo map all\n",
    "* Precision@10: dal campo P_10 all\n",
    "* Rprec: da Rprec all\n",
    "Mentre risulta necessario calcolare ANOVA-oneway"
   ]
  },
  {
   "cell_type": "code",
   "execution_count": 48,
   "metadata": {},
   "outputs": [
    {
     "name": "stdout",
     "output_type": "stream",
     "text": [
      "BM25_0\n",
      "AP: ['0.4181', '0.0373', '0.2185', '0.0750', '0.0765', '0.0104', '0.2657', '0.2394', '0.0155', '0.2238', '0.3065', '0.0739', '0.0437', '0.4758', '0.6838', '0.3936', '0.0774', '0.4264', '0.2703', '0.0968', '0.0021', '0.1370', '0.3783', '0.2292', '0.1793', '0.0137', '0.3113', '0.0047', '0.0704', '0.1909', '0.0303', '0.5199', '0.0235', '0.1840', '0.2648', '0.0326', '0.1153', '0.0188', '0.0380', '0.0824', '0.0940', '0.4517', '0.0586', '0.0084', '0.1061', '0.2734', '0.4059', '0.0115', '0.1012', '0.3728']\n",
      "P10: ['1.0000', '0.5000', '0.3000', '0.3000', '0.2000', '0.0000', '1.0000', '0.5000', '0.0000', '0.4000', '0.5000', '0.2000', '0.1000', '0.8000', '1.0000', '0.8000', '0.3000', '1.0000', '0.2000', '0.0000', '0.0000', '0.5000', '0.6000', '0.4000', '0.7000', '0.2000', '0.5000', '0.0000', '0.1000', '0.2000', '0.1000', '0.8000', '0.2000', '0.4000', '0.9000', '0.1000', '0.2000', '0.0000', '0.5000', '0.7000', '0.2000', '0.9000', '0.5000', '0.0000', '0.1000', '1.0000', '0.9000', '0.0000', '0.4000', '0.7000']\n",
      "RPREC: ['0.4167', '0.0894', '0.4590', '0.1884', '0.1333', '0.0000', '0.3370', '0.2941', '0.0357', '0.3576', '0.4444', '0.2308', '0.1250', '0.4571', '0.6571', '0.4747', '0.1640', '0.4262', '0.2308', '0.2470', '0.0000', '0.1837', '0.4848', '0.3725', '0.2750', '0.0392', '0.2821', '0.0306', '0.0625', '0.2857', '0.0714', '0.5455', '0.0753', '0.2157', '0.3023', '0.0526', '0.1176', '0.0784', '0.0928', '0.1045', '0.2079', '0.4476', '0.1127', '0.0588', '0.2160', '0.3051', '0.4444', '0.0828', '0.2157', '0.4240']\n",
      "TFIDF_1\n",
      "AP: ['0.4163', '0.0370', '0.2163', '0.0729', '0.0768', '0.0105', '0.2688', '0.2398', '0.0162', '0.2184', '0.3065', '0.0729', '0.0432', '0.4758', '0.6834', '0.3676', '0.0774', '0.4267', '0.2703', '0.0922', '0.0021', '0.1297', '0.3765', '0.2283', '0.1814', '0.0165', '0.3106', '0.0048', '0.0704', '0.1903', '0.0301', '0.5194', '0.0237', '0.1848', '0.2685', '0.0325', '0.1154', '0.0197', '0.0371', '0.0844', '0.0931', '0.4517', '0.0588', '0.0092', '0.1061', '0.2815', '0.4064', '0.0127', '0.1010', '0.3710']\n",
      "P10: ['1.0000', '0.5000', '0.3000', '0.3000', '0.2000', '0.0000', '1.0000', '0.5000', '0.1000', '0.4000', '0.5000', '0.2000', '0.1000', '0.8000', '1.0000', '0.8000', '0.3000', '1.0000', '0.2000', '0.0000', '0.0000', '0.4000', '0.6000', '0.4000', '0.7000', '0.2000', '0.5000', '0.0000', '0.1000', '0.2000', '0.1000', '0.8000', '0.2000', '0.4000', '0.9000', '0.1000', '0.2000', '0.0000', '0.5000', '0.7000', '0.2000', '0.9000', '0.5000', '0.1000', '0.1000', '1.0000', '0.9000', '0.0000', '0.4000', '0.7000']\n",
      "RPREC: ['0.4167', '0.0854', '0.4590', '0.1884', '0.1333', '0.0000', '0.3370', '0.2941', '0.0357', '0.3444', '0.4444', '0.2308', '0.1250', '0.4571', '0.6571', '0.4545', '0.1640', '0.4262', '0.2308', '0.2500', '0.0000', '0.1633', '0.4848', '0.3725', '0.2750', '0.0490', '0.2821', '0.0408', '0.0625', '0.2857', '0.0714', '0.5455', '0.0822', '0.2353', '0.3023', '0.0526', '0.1176', '0.0784', '0.0876', '0.1045', '0.2022', '0.4476', '0.1127', '0.0588', '0.2160', '0.3220', '0.4444', '0.0828', '0.2157', '0.4240']\n",
      "BM25_2\n",
      "AP: ['0.4110', '0.0349', '0.2198', '0.0801', '0.0857', '0.0105', '0.2688', '0.2311', '0.0151', '0.2233', '0.3038', '0.0776', '0.0431', '0.4778', '0.6682', '0.4300', '0.0764', '0.4038', '0.2657', '0.0927', '0.0019', '0.1575', '0.3752', '0.2211', '0.1735', '0.0126', '0.3125', '0.0041', '0.0702', '0.1882', '0.0246', '0.5153', '0.0231', '0.1888', '0.2677', '0.0311', '0.1128', '0.0167', '0.0383', '0.0820', '0.2819', '0.4444', '0.0555', '0.0065', '0.1044', '0.2770', '0.4044', '0.0113', '0.0955', '0.3651']\n",
      "P10: ['1.0000', '0.4000', '0.3000', '0.3000', '0.3000', '0.0000', '0.9000', '0.5000', '0.0000', '0.5000', '0.5000', '0.2000', '0.1000', '0.8000', '1.0000', '0.6000', '0.4000', '0.9000', '0.2000', '0.0000', '0.0000', '0.5000', '0.6000', '0.5000', '0.7000', '0.1000', '0.5000', '0.0000', '0.1000', '0.2000', '0.1000', '0.8000', '0.3000', '0.4000', '0.9000', '0.1000', '0.2000', '0.0000', '0.5000', '0.7000', '0.9000', '0.9000', '0.5000', '0.0000', '0.0000', '1.0000', '0.9000', '0.0000', '0.4000', '0.8000']\n",
      "RPREC: ['0.3958', '0.0894', '0.4672', '0.1994', '0.1556', '0.0000', '0.3296', '0.2941', '0.0357', '0.3510', '0.4444', '0.2308', '0.1250', '0.4571', '0.6571', '0.4747', '0.1640', '0.4098', '0.2308', '0.2470', '0.0000', '0.1837', '0.4848', '0.3725', '0.2750', '0.0392', '0.3333', '0.0306', '0.0625', '0.2857', '0.0714', '0.5455', '0.0753', '0.2157', '0.3023', '0.0526', '0.1176', '0.0784', '0.0928', '0.1045', '0.3371', '0.4381', '0.0986', '0.0588', '0.2207', '0.3051', '0.4074', '0.0759', '0.2059', '0.4160']\n",
      "TFIDF_3\n",
      "AP: ['0.3349', '0.0347', '0.2221', '0.1026', '0.0702', '0.0120', '0.2732', '0.1326', '0.0204', '0.3910', '0.2564', '0.0906', '0.1594', '0.5314', '0.6964', '0.2415', '0.0767', '0.4247', '0.2657', '0.0868', '0.0022', '0.1008', '0.3986', '0.2812', '0.1737', '0.0178', '0.1570', '0.0044', '0.3523', '0.1460', '0.0258', '0.3540', '0.0149', '0.1833', '0.2146', '0.0141', '0.1135', '0.0477', '0.0134', '0.0780', '0.1531', '0.1124', '0.0820', '0.0140', '0.1044', '0.2792', '0.1975', '0.0085', '0.0589', '0.3379']\n",
      "P10: ['1.0000', '0.4000', '0.7000', '0.4000', '0.3000', '0.0000', '0.8000', '0.0000', '0.1000', '0.9000', '0.4000', '0.2000', '0.1000', '0.8000', '1.0000', '0.6000', '0.4000', '0.8000', '0.2000', '0.1000', '0.0000', '0.4000', '0.8000', '0.4000', '0.7000', '0.2000', '0.3000', '0.0000', '0.5000', '0.2000', '0.1000', '0.6000', '0.1000', '0.3000', '0.8000', '0.0000', '0.3000', '0.1000', '0.3000', '0.8000', '0.9000', '0.3000', '0.6000', '0.0000', '0.0000', '1.0000', '0.4000', '0.0000', '0.2000', '0.8000']\n",
      "RPREC: ['0.3333', '0.0854', '0.3361', '0.2271', '0.1111', '0.0000', '0.3556', '0.1961', '0.0357', '0.4901', '0.3333', '0.2308', '0.1875', '0.4857', '0.6571', '0.3232', '0.1640', '0.4754', '0.2308', '0.2351', '0.0000', '0.1020', '0.4545', '0.3431', '0.2750', '0.0588', '0.3333', '0.0306', '0.4375', '0.2857', '0.0714', '0.4545', '0.0822', '0.2353', '0.2442', '0.1053', '0.1176', '0.1176', '0.0619', '0.0970', '0.1966', '0.2381', '0.1690', '0.0588', '0.2207', '0.3390', '0.2222', '0.0621', '0.1569', '0.3840']\n",
      "F-value: 0.09965024788515882 P-value: 0.9601256241314807\n"
     ]
    }
   ],
   "source": [
    "#creo la funzione che mi popolerà gli array\n",
    "def insertAll(file,array,parameter):\n",
    "    file=open(file)\n",
    "    lines = file.readlines()\n",
    "    #print(array,parameter)\n",
    "    for index in range(len(lines)):\n",
    "        line=lines[index]\n",
    "        line=line.split()\n",
    "        #print(line[0])\n",
    "        #print(parameter)\n",
    "        if (line[0]==parameter) and (line[1]!=\"all\"):\n",
    "            #print(line)\n",
    "            array.append(line[2])\n",
    "#apro tutti i file delle valutazioni\n",
    "valutazioneBM25_0  = \"C:\\\\Users\\\\franc\\\\Desktop\\\\Utility\\\\terrier\\\\terrier-core-4.4\\\\var\\\\valutazioni\\\\valutazioneBM25_0.txt\"\n",
    "#creo l'array che conterrà i valori che cerco\n",
    "ap_bm250=[]\n",
    "p10_bm250=[]\n",
    "rprec_bm250=[]\n",
    "#apro tutti i file delle valutazioni\n",
    "valutazioneTFIDF_1  = \"C:\\\\Users\\\\franc\\\\Desktop\\\\Utility\\\\terrier\\\\terrier-core-4.4\\\\var\\\\valutazioni\\\\valutazioneTFIDF_1.txt\" \n",
    "#creo l'array che conterrà i valori che cerco\n",
    "ap_tfidf1=[]\n",
    "p10_tfidf1=[]\n",
    "rprec_tfidf1=[]\n",
    "#apro tutti i file delle valutazioni\n",
    "valutazioneBM25_2  = \"C:\\\\Users\\\\franc\\\\Desktop\\\\Utility\\\\terrier\\\\terrier-core-4.4\\\\var\\\\valutazioni\\\\valutazioneBM25_2.txt\" \n",
    "#creo l'array che conterrà i valori che cerco\n",
    "ap_bm252=[]\n",
    "p10_bm252=[]\n",
    "rprec_bm252=[]\n",
    "#apro tutti i file delle valutazioni\n",
    "valutazioneTFIDF_3  = \"C:\\\\Users\\\\franc\\\\Desktop\\\\Utility\\\\terrier\\\\terrier-core-4.4\\\\var\\\\valutazioni\\\\valutazioneTFIDF_3.txt\" \n",
    "#creo l'array che conterrà i valori che cerco\n",
    "ap_tfidf3=[]\n",
    "p10_tfidf3=[]\n",
    "rprec_tfidf3=[]\n",
    "#inserisco i valori nell'array corretto\n",
    "#BM25_0\n",
    "print(\"BM25_0\")\n",
    "insertAll(valutazioneBM25_0,ap_bm250,\"map\")\n",
    "print(\"AP:\",ap_bm250)\n",
    "insertAll(valutazioneBM25_0,p10_bm250,\"P_10\")\n",
    "#insertAll(valutazioneBM25_0,valutazioneBM25_0.readlines(),p10_bm250,\"P_10\")\n",
    "print(\"P10:\",p10_bm250)\n",
    "insertAll(valutazioneBM25_0,rprec_bm250,\"Rprec\")\n",
    "print(\"RPREC:\",rprec_bm250)\n",
    "#TFIDF_1\n",
    "print(\"TFIDF_1\")\n",
    "insertAll(valutazioneTFIDF_1,ap_tfidf1,\"map\")\n",
    "insertAll(valutazioneTFIDF_1,p10_tfidf1,\"P_10\")\n",
    "insertAll(valutazioneTFIDF_1,rprec_tfidf1,\"Rprec\")\n",
    "print(\"AP:\",ap_tfidf1)\n",
    "print(\"P10:\",p10_tfidf1)\n",
    "print(\"RPREC:\",rprec_tfidf1)\n",
    "#BM25_2\n",
    "print(\"BM25_2\")\n",
    "insertAll(valutazioneBM25_2,ap_bm252,\"map\")\n",
    "print(\"AP:\",ap_bm252)\n",
    "insertAll(valutazioneBM25_2,p10_bm252,\"P_10\")\n",
    "print(\"P10:\",p10_bm252)\n",
    "insertAll(valutazioneBM25_2,rprec_bm252,\"Rprec\")\n",
    "print(\"RPREC:\",rprec_bm252)\n",
    "#TFIDF_3\n",
    "print(\"TFIDF_3\")\n",
    "insertAll(valutazioneTFIDF_3,ap_tfidf3,\"map\")\n",
    "insertAll(valutazioneTFIDF_3,p10_tfidf3,\"P_10\")\n",
    "insertAll(valutazioneTFIDF_3,rprec_tfidf3,\"Rprec\")\n",
    "print(\"AP:\",ap_tfidf3)\n",
    "print(\"P10:\",p10_tfidf3)\n",
    "print(\"RPREC:\",rprec_tfidf3)\n",
    "Fvalue, pvalue = stats.f_oneway(ap_bm250, ap_tfidf1, ap_bm252, ap_tfidf3)\n",
    "print(\"F-value:\",Fvalue,\"P-value:\",pvalue)\n"
   ]
  },
  {
   "cell_type": "code",
   "execution_count": 49,
   "metadata": {
    "scrolled": false
   },
   "outputs": [],
   "source": [
    "import pandas as pd\n",
    "import scipy.stats as stats\n",
    "import researchpy as rp\n",
    "import statsmodels.api as sm\n",
    "from statsmodels.formula.api import ols\n",
    "import numpy as np\n",
    "import matplotlib.pyplot as plt\n",
    "alpha=0.05\n",
    "\"\"\"# Trovo i dati dal file di valutazione della run\n",
    "# apro la valutazione con PorterStemmer,Stopwords e modello BM25\n",
    "valutazioneBM25_0  = open(\"C:\\\\Users\\\\franc\\\\Desktop\\\\Utility\\\\terrier\\\\terrier-core-4.4\\\\var\\\\valutazioni\\\\valutazioneBM25_0.txt\",\"r\") \n",
    "linee = valutazioneBM25_0.readlines() \n",
    "map_bm250=[]\n",
    "topics = range(6,4554,91)\n",
    "for index in topics:\n",
    "#inserisco in array map_bm250 le map dei singoli topic\n",
    "        riga = linee[index]\n",
    "        riga = riga.split()\n",
    "        #print(riga)\n",
    "        map_bm250.append(riga[2])  \n",
    "#print(\"BM250\")\n",
    "#print(map_bm250)\n",
    "# apro la valutazione con PorterStemmer,Stopwords e modello TFIDF\n",
    "valutazioneTFIDF_1  = open(\"C:\\\\Users\\\\franc\\\\Desktop\\\\Utility\\\\terrier\\\\terrier-core-4.4\\\\var\\\\valutazioni\\\\valutazioneTFIDF_1.txt\",\"r\") \n",
    "linee = valutazioneTFIDF_1.readlines() \n",
    "map_TFIDF1=[]\n",
    "topics = range(4,4554,91)\n",
    "for index in topics:\n",
    "#inserisco in array map_TFIDF1 le map dei singoli topic\n",
    "        riga = linee[index]\n",
    "        riga = riga.split()\n",
    "        map_TFIDF1.append(riga[2]) \n",
    "#print(\"TFIDF1\")\n",
    "#print(map_TFIDF1)\n",
    "# apro la valutazione con PorterStemmer e modello BM25\n",
    "valutazioneBM25_2  = open(\"C:\\\\Users\\\\franc\\\\Desktop\\\\Utility\\\\terrier\\\\terrier-core-4.4\\\\var\\\\valutazioni\\\\valutazioneBM25_2.txt\",\"r\") \n",
    "linee = valutazioneBM25_2.readlines() \n",
    "map_BM252=[]\n",
    "topics = range(4,4554,91)\n",
    "for index in topics:\n",
    "#inserisco in array map_bm252 le map dei singoli topic\n",
    "        riga = linee[index]\n",
    "        riga = riga.split()\n",
    "        map_BM252.append(riga[2])        \n",
    "#print(\"BM252\")\n",
    "#print(map_BM252)\n",
    "# apro la valutazione con modello TFIDF\n",
    "valutazioneTFIDF_3  = open(\"C:\\\\Users\\\\franc\\\\Desktop\\\\Utility\\\\terrier\\\\terrier-core-4.4\\\\var\\\\valutazioni\\\\valutazioneTFIDF_3.txt\",\"r\") \n",
    "linee = valutazioneTFIDF_3.readlines() \n",
    "map_TFIDF3=[]\n",
    "topics = range(4,4554,91)\n",
    "for index in topics:\n",
    "#inserisco in array map_TFIDF3 le map dei singoli topic\n",
    "        riga = linee[index]\n",
    "        riga = riga.split()\n",
    "        map_TFIDF3.append(riga[2]) \n",
    "#print(\"TFIDF3\")\n",
    "#print(map_TFIDF3)\n",
    "#creo la matrice con tutte le map delle singole run e dei singoli topic\n",
    "measures = np.c_[map_bm250, map_TFIDF1, map_BM252, map_TFIDF3]\n",
    "#print(measures)\n",
    "#calcolo ANOVA one way per trovare il pvalue\n",
    "Fvalue, pvalue = stats.f_oneway(map_bm250, map_TFIDF1, map_BM252, map_TFIDF3)\n",
    "print(\"F-value:\",Fvalue,\"P-value:\",pvalue)\n",
    "#controllo se il p-value è minore di alpha, in tal caso si va a sostituire\n",
    "\"\"\"\n",
    "if pvalue<alpha:\n",
    "    alpha=pvalue\n"
   ]
  },
  {
   "cell_type": "markdown",
   "metadata": {},
   "source": [
    "# Identificazione delle run:\n",
    "Le run sono identificate come segue:\n",
    "* RUN#0: modello BM25 con indice con PorterStemmer e Stopwords;\n",
    "* RUN#1: modello TFIDF con indice con PorterStemmer e Stopwords;\n",
    "* RUN#2: modello BM25 con indice con PorterStemmer;\n",
    "* RUN#3: modello TFIDF con indice senza PorterStemmer e Stopwords."
   ]
  },
  {
   "cell_type": "code",
   "execution_count": 50,
   "metadata": {
    "scrolled": true
   },
   "outputs": [
    {
     "name": "stdout",
     "output_type": "stream",
     "text": [
      "Multiple Comparison of Means - Tukey HSD,FWER=0.05\n",
      "============================================\n",
      "group1 group2 meandiff  lower  upper  reject\n",
      "--------------------------------------------\n",
      "RUN#0  RUN#1  -0.0006  -0.0851 0.0838 False \n",
      "RUN#0  RUN#2   0.0029  -0.0816 0.0874 False \n",
      "RUN#0  RUN#3  -0.0135   -0.098 0.071  False \n",
      "RUN#1  RUN#2   0.0035   -0.081 0.088  False \n",
      "RUN#1  RUN#3  -0.0128  -0.0973 0.0716 False \n",
      "RUN#2  RUN#3  -0.0164  -0.1008 0.0681 False \n",
      "--------------------------------------------\n",
      "[[-0.08511753  0.08384553]\n",
      " [-0.08159953  0.08736353]\n",
      " [-0.09796153  0.07100153]\n",
      " [-0.08096353  0.08799953]\n",
      " [-0.09732553  0.07163753]\n",
      " [-0.10084353  0.06811953]]\n",
      "[False False False False False False]\n",
      "[-0.000636  0.002882 -0.01348   0.003518 -0.012844 -0.016362]\n",
      "[0.02305267 0.02305267 0.02305267 0.02305267 0.02305267 0.02305267]\n",
      "3.6647169573500507\n",
      "[0.04224076 0.04224076 0.04224076 0.04224076]\n"
     ]
    },
    {
     "data": {
      "image/png": "[encoded data removed]",
      "text/plain": [
       "<Figure size 720x432 with 1 Axes>"
      ]
     },
     "metadata": {
      "needs_background": "light"
     },
     "output_type": "display_data"
    }
   ],
   "source": [
    "from statsmodels.stats.multicomp import MultiComparison\n",
    "#concateno le varie AP dei vari topic \n",
    "vector_maps=np.concatenate([map_bm250, map_TFIDF1, map_BM252, map_TFIDF3])\n",
    "#print(vector_maps)\n",
    "#creo e popolo il vettore relativo alle RUN\n",
    "runID=[]\n",
    "for i in range(4):\n",
    "#popolo il vettore\n",
    "    for index in range(50):\n",
    "        runID.append(\"RUN#\"+str(i))\n",
    "        \n",
    "mc = MultiComparison(vector_maps.astype('float'), runID)\n",
    "result = mc.tukeyhsd(alpha)\n",
    " \n",
    "print(result)\n",
    "#print(mc.groupsunique)\n",
    "#metodi a disposizione di result: reject, meandiffs, confint, std_pairs, q_crit, halfwidths\n",
    "print(result.confint)\n",
    "print(result.reject)\n",
    "print(result.meandiffs)\n",
    "print(result.std_pairs)\n",
    "print(result.q_crit)\n",
    "result.plot_simultaneous()\n",
    "print(result.halfwidths)"
   ]
  },
  {
   "cell_type": "markdown",
   "metadata": {},
   "source": [
    "# Plot dei risultati\n",
    "Ora inserisco i grafici con i risultati di MAP,Precision_10, Rprec e il grafico Precision-Recall?"
   ]
  },
  {
   "cell_type": "code",
   "execution_count": null,
   "metadata": {},
   "outputs": [],
   "source": [
    "#mi prendo i dati, di ogni run e di ogni topic per il Precision-Recall\n"
   ]
  },
  {
   "cell_type": "code",
   "execution_count": 29,
   "metadata": {},
   "outputs": [
    {
     "name": "stdout",
     "output_type": "stream",
     "text": [
      "ciao\n",
      "ciao\n"
     ]
    }
   ],
   "source": [
    "def ciao():\n",
    "    print(\"ciao\")  \n",
    "ciao()\n",
    "ciao()"
   ]
  },
  {
   "cell_type": "code",
   "execution_count": null,
   "metadata": {},
   "outputs": [],
   "source": []
  }
 ],
 "metadata": {
  "kernelspec": {
   "display_name": "Python 3",
   "language": "python",
   "name": "python3"
  },
  "language_info": {
   "codemirror_mode": {
    "name": "ipython",
    "version": 3
   },
   "file_extension": ".py",
   "mimetype": "text/x-python",
   "name": "python",
   "nbconvert_exporter": "python",
   "pygments_lexer": "ipython3",
   "version": "3.7.0"
  }
 },
 "nbformat": 4,
 "nbformat_minor": 2
}
